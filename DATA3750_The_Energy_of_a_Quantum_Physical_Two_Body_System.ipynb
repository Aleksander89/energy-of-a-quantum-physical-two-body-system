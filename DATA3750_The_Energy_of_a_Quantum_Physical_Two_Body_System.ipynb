{
 "cells": [
  {
   "cell_type": "markdown",
   "metadata": {},
   "source": [
    "# The Energy of a Quantum Physical Two-Body System"
   ]
  },
  {
   "cell_type": "code",
   "execution_count": 1,
   "metadata": {},
   "outputs": [],
   "source": [
    "import numpy as np\n",
    "import matplotlib.pyplot as plt\n",
    "from matplotlib import cm\n",
    "from mpl_toolkits.mplot3d import Axes3D"
   ]
  },
  {
   "cell_type": "markdown",
   "metadata": {},
   "source": [
    "## Constants"
   ]
  },
  {
   "cell_type": "code",
   "execution_count": 15,
   "metadata": {},
   "outputs": [],
   "source": [
    "# sigma = 1\n",
    "# x0 = 0\n",
    "\n",
    "#planck = 6.626e-34\n",
    "#reduced_planck = planck/(2*np.pi)\n",
    "#e_mass = 9.109e-31"
   ]
  },
  {
   "cell_type": "markdown",
   "metadata": {},
   "source": [
    "## Discretization"
   ]
  },
  {
   "cell_type": "code",
   "execution_count": 16,
   "metadata": {},
   "outputs": [],
   "source": [
    "# Length of interval\n",
    "L = 20\n",
    "# No. of subintervals\n",
    "N = 500\n",
    "# Stepsize\n",
    "h = L / (N-1)\n",
    "\n",
    "# Argument vector\n",
    "xi = np.linspace(-L/2, L/2, N)"
   ]
  },
  {
   "cell_type": "markdown",
   "metadata": {},
   "source": [
    "## Functions"
   ]
  },
  {
   "cell_type": "code",
   "execution_count": 17,
   "metadata": {},
   "outputs": [],
   "source": [
    "def v_func(x):\n",
    "    \"\"\" Returns the portential function of the quantum system \"\"\"\n",
    "    return x**2/2"
   ]
  },
  {
   "cell_type": "code",
   "execution_count": 18,
   "metadata": {},
   "outputs": [],
   "source": [
    "def psi_func(x, *args):\n",
    "    \"\"\" Returns the wave function. *args takes optional number of parameters \n",
    "    is just an implementation detail to facilitate the populate_vector function\"\"\"\n",
    "    x0, sigma = args\n",
    "\n",
    "    return np.sqrt(1/(sigma*np.sqrt(2*np.pi)))*np.exp(-(x-x0)**2/(4*sigma**2))"
   ]
  },
  {
   "cell_type": "code",
   "execution_count": 19,
   "metadata": {},
   "outputs": [],
   "source": [
    "def populate_vector(func, *args):\n",
    "    \"\"\" Returns a vector of the given function in N range\"\"\"\n",
    "    vector = [func(xi[i], *args) for i in range(N)]\n",
    "    return np.array(vector).reshape(-1, 1)"
   ]
  },
  {
   "cell_type": "code",
   "execution_count": 20,
   "metadata": {},
   "outputs": [],
   "source": [
    "def finite_difference_scheme():\n",
    "    \"\"\" Returns a matrix representation of a second order central finite difference scheme\"\"\"\n",
    "    m = np.zeros((N,N))\n",
    "    for i in range(N):\n",
    "        m[i,i] = -2\n",
    "        if i+1 < N:\n",
    "            m[i,i+1] = 1\n",
    "        if i-1 >= 0:\n",
    "            m[i, i-1] = 1\n",
    "    return m"
   ]
  },
  {
   "cell_type": "code",
   "execution_count": 21,
   "metadata": {},
   "outputs": [],
   "source": [
    "def compute_e(x0, sigma):\n",
    "    \"\"\"  \"\"\"\n",
    "    psi_vector = populate_vector(psi_func, x0, sigma)\n",
    "    \n",
    "    #kinetic_constant = -reduced_planck**2/(2*e_mass) # Kan være 1 inntil videre\n",
    "    h_psi = -1/2*(1/h**2)*(finite_difference_matrix @ psi_vector) + (v_vector * psi_vector)\n",
    "     \n",
    "    e = h*(psi_vector.T @ h_psi)  \n",
    "    \n",
    "    return e[0][0]"
   ]
  },
  {
   "cell_type": "code",
   "execution_count": 23,
   "metadata": {},
   "outputs": [],
   "source": [
    "def finite_difference_e(x, y):\n",
    "    \"\"\"  \"\"\"\n",
    "    return (compute_e(x+h, y) - compute_e(x-h, y))/2*h"
   ]
  },
  {
   "cell_type": "code",
   "execution_count": 44,
   "metadata": {},
   "outputs": [],
   "source": [
    "def gradient_step(x0, sigma):\n",
    "    lr = 0.01\n",
    "    # print(finite_difference_e(sigma, x0))\n",
    "    new_x0 = x0 - lr*finite_difference_e(x0, sigma)\n",
    "    new_sigma = sigma - lr*finite_difference_e(sigma, x0)\n",
    "    return (new_x0, new_sigma)\n",
    "    \n",
    "    "
   ]
  },
  {
   "cell_type": "code",
   "execution_count": 45,
   "metadata": {},
   "outputs": [],
   "source": [
    "def gradient_descent(x0, sigma):\n",
    "    iterations = 0\n",
    "    max_iterations = 2000\n",
    "    precision = 1e-7\n",
    "    \n",
    "    #e = \n",
    "    #e_new\n",
    "    \n",
    "    \n",
    "    while (iterations < max_iterations):\n",
    "    \n",
    "        x0, sigma = gradient_step(x0, sigma)\n",
    "        iterations += 1\n",
    "        \n",
    "        \n",
    "        \n",
    "    return x0, sigma"
   ]
  },
  {
   "cell_type": "markdown",
   "metadata": {},
   "source": [
    "## Computing the Energy"
   ]
  },
  {
   "cell_type": "markdown",
   "metadata": {},
   "source": [
    "Tweake parameter(lr, x0, sigma).\n",
    "Lage plot\n",
    "Sette stoppkriterier.\n",
    "\n",
    "\n",
    "fasit\n",
    "x0 = 0\n",
    "sigma = 1/sqrt(2)\n",
    "e = 0.5"
   ]
  },
  {
   "cell_type": "code",
   "execution_count": 46,
   "metadata": {},
   "outputs": [
    {
     "name": "stdout",
     "output_type": "stream",
     "text": [
      "[[-2.  1.  0. ...  0.  0.  0.]\n",
      " [ 1. -2.  1. ...  0.  0.  0.]\n",
      " [ 0.  1. -2. ...  0.  0.  0.]\n",
      " ...\n",
      " [ 0.  0.  0. ... -2.  1.  0.]\n",
      " [ 0.  0.  0. ...  1. -2.  1.]\n",
      " [ 0.  0.  0. ...  0.  1. -2.]]\n"
     ]
    }
   ],
   "source": [
    "# Initializing vectors\n",
    "v_vector = populate_vector(v_func)\n",
    "finite_difference_matrix = finite_difference_scheme()\n",
    "print(finite_difference_matrix)    \n",
    "    "
   ]
  },
  {
   "cell_type": "code",
   "execution_count": 47,
   "metadata": {
    "scrolled": true
   },
   "outputs": [
    {
     "name": "stdout",
     "output_type": "stream",
     "text": [
      "Energy at guess 0.5202818631885944\n",
      "0.09683819984156898 0.7747055987325618\n",
      "0.5130131137419279\n"
     ]
    }
   ],
   "source": [
    "x0 = 0.1\n",
    "sigma = 0.8\n",
    "\n",
    "e = compute_e(x0, sigma)\n",
    "print(f\"Energy at guess {e}\")\n",
    "new_x0, new_sigma = gradient_descent(x0, sigma) \n",
    "print(new_x0, new_sigma)\n",
    "print(compute_e(new_x0, new_sigma))"
   ]
  },
  {
   "cell_type": "code",
   "execution_count": null,
   "metadata": {},
   "outputs": [],
   "source": [
    "# Forsøk på plotting:\n",
    "\n",
    "X = np.arange(-5, 5, 0.1)\n",
    "Y = np.arange(0.5, 2, ((2-0.5)/len(X)))\n",
    "\n",
    "E = np.zeros((len(X), len(Y)))\n",
    "\n",
    "for i,x in enumerate(X):\n",
    "    for j,y in enumerate(Y):\n",
    "        E[i][j] = compute_e(x, y)\n",
    "\n",
    "X, Y = np.meshgrid(X, Y)\n",
    "\n",
    "print(X.shape, Y.shape, E.shape)\n",
    "\n",
    "fig = plt.figure()\n",
    "\n",
    "ax = Axes3D(fig)\n",
    "ax.plot_surface(X, Y, E,  cmap=cm.viridis)\n",
    "\n",
    "plt.show()\n",
    "\n"
   ]
  },
  {
   "cell_type": "code",
   "execution_count": null,
   "metadata": {},
   "outputs": [],
   "source": []
  }
 ],
 "metadata": {
  "kernelspec": {
   "display_name": "Python 3",
   "language": "python",
   "name": "python3"
  },
  "language_info": {
   "codemirror_mode": {
    "name": "ipython",
    "version": 3
   },
   "file_extension": ".py",
   "mimetype": "text/x-python",
   "name": "python",
   "nbconvert_exporter": "python",
   "pygments_lexer": "ipython3",
   "version": "3.8.3"
  }
 },
 "nbformat": 4,
 "nbformat_minor": 4
}
