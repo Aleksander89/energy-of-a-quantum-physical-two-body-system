{
 "cells": [
  {
   "cell_type": "markdown",
   "metadata": {},
   "source": [
    "# The Energy of a Quantum Physical Two-Body System"
   ]
  },
  {
   "cell_type": "code",
   "execution_count": 47,
   "metadata": {},
   "outputs": [],
   "source": [
    "import numpy as np\n",
    "import matplotlib.pyplot as plt"
   ]
  },
  {
   "cell_type": "markdown",
   "metadata": {},
   "source": [
    "## Constants"
   ]
  },
  {
   "cell_type": "code",
   "execution_count": 48,
   "metadata": {},
   "outputs": [],
   "source": [
    "sigma = 1\n",
    "x0 = 0\n",
    "\n",
    "planck = 6.626e-34\n",
    "reduced_planck = planck/(2*np.pi)\n",
    "e_mass = 9.109e-31"
   ]
  },
  {
   "cell_type": "markdown",
   "metadata": {},
   "source": [
    "## Discretization"
   ]
  },
  {
   "cell_type": "code",
   "execution_count": 49,
   "metadata": {},
   "outputs": [],
   "source": [
    "# Length of interval\n",
    "L = 10 \n",
    "# No. of subintervals\n",
    "N = 11*100\n",
    "# Stepsize\n",
    "h = L / (N-1)\n",
    "\n",
    "# Argument vector\n",
    "xi = np.linspace(-L/2, L/2, N)"
   ]
  },
  {
   "cell_type": "markdown",
   "metadata": {},
   "source": [
    "## Functions"
   ]
  },
  {
   "cell_type": "code",
   "execution_count": 50,
   "metadata": {},
   "outputs": [],
   "source": [
    "def v_func(x):\n",
    "    return x**2/2"
   ]
  },
  {
   "cell_type": "code",
   "execution_count": 122,
   "metadata": {},
   "outputs": [],
   "source": [
    "def psi_func(x, *args):\n",
    "    x0, sigma = args\n",
    "    return (1/np.sqrt(2*sigma))*np.exp(-((x-x0)**2)/2*sigma**2)"
   ]
  },
  {
   "cell_type": "code",
   "execution_count": 107,
   "metadata": {},
   "outputs": [],
   "source": [
    "def populate_vector(func, *args):\n",
    "    vector = [func(xi[i], *args) for i in range(N)]\n",
    "    return np.array(vector).reshape(-1, 1)"
   ]
  },
  {
   "cell_type": "code",
   "execution_count": 124,
   "metadata": {},
   "outputs": [],
   "source": [
    "def finite_difference_scheme():\n",
    "    m = np.zeros((N,N))\n",
    "    for i in range(N):\n",
    "        m[i,i] = -2\n",
    "        if i+1 < N:\n",
    "            m[i,i+1] = 1\n",
    "        if i-1 >= 0:\n",
    "            m[i, i-1] = 1\n",
    "    return m"
   ]
  },
  {
   "cell_type": "code",
   "execution_count": 147,
   "metadata": {},
   "outputs": [],
   "source": [
    "def compute_e(x0, sigma):\n",
    "    psi_vector = populate_vector(psi_func, x0, sigma)\n",
    "    v_vector = populate_vector(v_func)\n",
    "    finite_difference_matrix = finite_difference_scheme()\n",
    "    #kinetic_constant = -reduced_planck**2/(2*e_mass) # Kan være 1 inntil videre\n",
    "    h_matrix = (1/h**2)*(psi_vector * finite_difference_matrix) + (v_vector * psi_vector)\n",
    "    \n",
    "    return h*(psi_vector.T @ h_matrix) @ psi_vector"
   ]
  },
  {
   "cell_type": "markdown",
   "metadata": {},
   "source": [
    "## Computing the Energy"
   ]
  },
  {
   "cell_type": "code",
   "execution_count": 145,
   "metadata": {},
   "outputs": [],
   "source": [
    "e = compute_e(x0=0, sigma=1)"
   ]
  },
  {
   "cell_type": "code",
   "execution_count": 146,
   "metadata": {},
   "outputs": [
    {
     "data": {
      "text/plain": [
       "array([[42.81650072]])"
      ]
     },
     "execution_count": 146,
     "metadata": {},
     "output_type": "execute_result"
    }
   ],
   "source": [
    "e"
   ]
  },
  {
   "cell_type": "code",
   "execution_count": null,
   "metadata": {},
   "outputs": [],
   "source": []
  }
 ],
 "metadata": {
  "kernelspec": {
   "display_name": "Python 3",
   "language": "python",
   "name": "python3"
  },
  "language_info": {
   "codemirror_mode": {
    "name": "ipython",
    "version": 3
   },
   "file_extension": ".py",
   "mimetype": "text/x-python",
   "name": "python",
   "nbconvert_exporter": "python",
   "pygments_lexer": "ipython3",
   "version": "3.8.3"
  }
 },
 "nbformat": 4,
 "nbformat_minor": 4
}
