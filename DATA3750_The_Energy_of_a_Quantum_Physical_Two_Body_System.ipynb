{
 "cells": [
  {
   "cell_type": "markdown",
   "metadata": {},
   "source": [
    "# The Energy of a Quantum Physical Two-Body System"
   ]
  },
  {
   "cell_type": "code",
   "execution_count": 1,
   "metadata": {},
   "outputs": [],
   "source": [
    "import numpy as np\n",
    "import matplotlib.pyplot as plt\n",
    "from typing import Callable"
   ]
  },
  {
   "cell_type": "markdown",
   "metadata": {},
   "source": [
    "## Constants"
   ]
  },
  {
   "cell_type": "code",
   "execution_count": 2,
   "metadata": {},
   "outputs": [],
   "source": [
    "sigma = 1\n",
    "x0 = 0\n",
    "\n",
    "planck = 6.626e-34\n",
    "reduced_planck = planck/(2*np.pi)\n",
    "e_mass = 9.109e-31"
   ]
  },
  {
   "cell_type": "markdown",
   "metadata": {},
   "source": [
    "## Discretization"
   ]
  },
  {
   "cell_type": "code",
   "execution_count": 3,
   "metadata": {},
   "outputs": [],
   "source": [
    "# Length of interval\n",
    "L = 10 \n",
    "# No. of subintervals\n",
    "N = 11*100\n",
    "# Stepsize\n",
    "h = L / (N-1)\n",
    "\n",
    "# Argument vector\n",
    "xi = np.linspace(-L/2, L/2, N)"
   ]
  },
  {
   "cell_type": "markdown",
   "metadata": {},
   "source": [
    "## Functions"
   ]
  },
  {
   "cell_type": "code",
   "execution_count": 4,
   "metadata": {},
   "outputs": [],
   "source": [
    "def v_func(x):\n",
    "    return x**2/2"
   ]
  },
  {
   "cell_type": "code",
   "execution_count": 5,
   "metadata": {},
   "outputs": [],
   "source": [
    "def psi_func(x):\n",
    "    return (1/np.sqrt(2*sigma))*np.exp(-((x-x0)**2)/2*sigma**2)"
   ]
  },
  {
   "cell_type": "code",
   "execution_count": 6,
   "metadata": {},
   "outputs": [],
   "source": [
    "def populate_vector(func: Callable[[np.ndarray], np.float64]) -> np.ndarray:\n",
    "    vector = np.zeros((N, 1))\n",
    "    for i in range(N):\n",
    "        vector[i] = func(xi[i])\n",
    "    return vector"
   ]
  },
  {
   "cell_type": "code",
   "execution_count": 35,
   "metadata": {},
   "outputs": [],
   "source": [
    "def finite_difference_scheme():\n",
    "    m = np.zeros((N,N))\n",
    "    for i in range(N):\n",
    "        m[i,i] = -2\n",
    "        if i+1 < N:\n",
    "            m[i,i+1] = 1\n",
    "        if i-1 >= 0:\n",
    "            m[i, i-1] = 1\n",
    "    return m"
   ]
  },
  {
   "cell_type": "markdown",
   "metadata": {},
   "source": [
    "## Creating the hamiltonian operator"
   ]
  },
  {
   "cell_type": "code",
   "execution_count": 36,
   "metadata": {},
   "outputs": [],
   "source": [
    "psi_vector = populate_vector(psi_func)\n",
    "v_vector = populate_vector(v_func)\n",
    "finite_difference_matrix = finite_difference_scheme()"
   ]
  },
  {
   "cell_type": "code",
   "execution_count": 37,
   "metadata": {},
   "outputs": [],
   "source": [
    "#kinetic_constant = -reduced_planck**2/(2*e_mass) # Kan være 1 inntil videre\n",
    "h_matrix = (1/h**2)*(psi_vector * finite_difference_matrix) + (v_vector * psi_vector)"
   ]
  },
  {
   "cell_type": "code",
   "execution_count": 38,
   "metadata": {},
   "outputs": [],
   "source": [
    "e = h*(psi_vector.T @ h_matrix)@psi_vector"
   ]
  },
  {
   "cell_type": "code",
   "execution_count": 39,
   "metadata": {},
   "outputs": [
    {
     "data": {
      "text/plain": [
       "array([[42.81650072]])"
      ]
     },
     "execution_count": 39,
     "metadata": {},
     "output_type": "execute_result"
    }
   ],
   "source": [
    "e"
   ]
  },
  {
   "cell_type": "code",
   "execution_count": null,
   "metadata": {},
   "outputs": [],
   "source": []
  }
 ],
 "metadata": {
  "kernelspec": {
   "display_name": "Python 3",
   "language": "python",
   "name": "python3"
  },
  "language_info": {
   "codemirror_mode": {
    "name": "ipython",
    "version": 3
   },
   "file_extension": ".py",
   "mimetype": "text/x-python",
   "name": "python",
   "nbconvert_exporter": "python",
   "pygments_lexer": "ipython3",
   "version": "3.8.3"
  }
 },
 "nbformat": 4,
 "nbformat_minor": 4
}
